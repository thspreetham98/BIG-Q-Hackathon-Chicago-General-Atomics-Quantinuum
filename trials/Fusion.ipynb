{
 "cells": [
  {
   "cell_type": "markdown",
   "id": "f65583ca-2a34-47e1-a37a-91b9d276ccc3",
   "metadata": {},
   "source": [
    "# VQE for Fusion"
   ]
  },
  {
   "cell_type": "code",
   "execution_count": 350,
   "id": "2e399788-f86f-4f08-8f64-a1b38afe0d81",
   "metadata": {},
   "outputs": [],
   "source": [
    "import numpy as np\n",
    "#from numpy.core.umath_tests import inner1d\n",
    "\n",
    "import functools\n",
    "from operator import mul\n",
    "# from mpmath import *\n",
    "import time\n",
    "import sys\n",
    "import random\n",
    "import cmath\n",
    "import itertools\n",
    "import matplotlib.pyplot as plt\n",
    "\n",
    "# Importing Qiskit libraries\n",
    "from qiskit.algorithms.optimizers import ADAM, CG, GSLS, NELDER_MEAD, NFT, POWELL, SPSA, TNC, COBYLA, L_BFGS_B, SLSQP, AQGD, P_BFGS, GradientDescent\n",
    "from qiskit import QuantumCircuit, transpile, Aer, IBMQ\n",
    "from qiskit.tools.jupyter import *\n",
    "from qiskit.visualization import *\n",
    "from ibm_quantum_widgets import *\n",
    "from qiskit.providers.aer import QasmSimulator\n",
    "from qiskit.quantum_info.operators.symplectic.pauli_utils import pauli_basis\n",
    "from qiskit import QuantumCircuit, ClassicalRegister, QuantumRegister\n",
    "from qiskit.circuit.library import EfficientSU2\n",
    "from qiskit.quantum_info import SparsePauliOp\n",
    "from qiskit import QuantumCircuit, transpile, Aer, IBMQ, BasicAer\n",
    "from qiskit.tools.jupyter import *\n",
    "from qiskit.visualization import *\n",
    "from ibm_quantum_widgets import *\n",
    "from qiskit.providers.aer import QasmSimulator\n",
    "from qiskit.execute_function import execute\n",
    "from qiskit.visualization import plot_bloch_multivector\n",
    "from qiskit.quantum_info import Statevector\n",
    "from qiskit.opflow import I, Z, X, Y, StateFn, SummedOp, CircuitOp, CircuitStateFn\n",
    "from qiskit.opflow.gradients import Gradient, NaturalGradient, QFI, Hessian\n",
    "from qiskit.circuit import QuantumCircuit, QuantumRegister, Parameter, ParameterVector, ParameterExpression\n",
    "from qiskit.circuit.library import EfficientSU2\n",
    "\n",
    "from scipy.optimize import minimize, rosen, rosen_der\n",
    "import scipy\n",
    "from scipy import sparse\n",
    "from scipy.sparse import csr_matrix\n",
    "\n",
    "import sympy\n",
    "from sympy import Matrix\n",
    "from sympy.physics.quantum import TensorProduct\n",
    "from sympy.physics.quantum.dagger import Dagger\n",
    "\n",
    "# Pre-defined ansatz circuit and operator class for Hamiltonian\n",
    "from qiskit.circuit.library import EfficientSU2\n",
    "from qiskit.quantum_info import SparsePauliOp\n",
    "\n",
    "# The IBM Qiskit Runtime\n",
    "from qiskit_ibm_runtime import QiskitRuntimeService\n",
    "from qiskit_ibm_runtime import Estimator, Session\n",
    "\n",
    "%config InlineBackend.figure_format='retina'\n",
    "\n",
    "from qiskit_nature.second_q.hamiltonians.lattices import LineLattice, BoundaryCondition\n",
    "from qiskit_nature.second_q.hamiltonians.ising_model import IsingModel\n",
    "\n",
    "# Loading your IBM Quantum account(s)\n",
    "# provider = IBMQ.load_account()"
   ]
  },
  {
   "cell_type": "code",
   "execution_count": 346,
   "id": "64e4e6d3-5788-467d-9d75-3d1c4a052148",
   "metadata": {
    "tags": []
   },
   "outputs": [
    {
     "name": "stdout",
     "output_type": "stream",
     "text": [
      "Collecting pytket\n",
      "  Downloading pytket-1.20.1-cp310-cp310-manylinux_2_17_x86_64.manylinux2014_x86_64.whl (7.5 MB)\n",
      "\u001b[2K     \u001b[90m━━━━━━━━━━━━━━━━━━━━━━━━━━━━━━━━━━━━━━━━\u001b[0m \u001b[32m7.5/7.5 MB\u001b[0m \u001b[31m7.7 MB/s\u001b[0m eta \u001b[36m0:00:00\u001b[0m:00:01\u001b[0m00:01\u001b[0m\n",
      "\u001b[?25hRequirement already satisfied: sympy~=1.6 in /opt/conda/lib/python3.10/site-packages (from pytket) (1.11.1)\n",
      "Requirement already satisfied: scipy<2.0,>=1.7.2 in /opt/conda/lib/python3.10/site-packages (from pytket) (1.9.3)\n",
      "Requirement already satisfied: numpy<2.0,>=1.21.4 in /opt/conda/lib/python3.10/site-packages (from pytket) (1.23.5)\n",
      "Collecting lark-parser~=0.7\n",
      "  Downloading lark_parser-0.12.0-py2.py3-none-any.whl (103 kB)\n",
      "\u001b[2K     \u001b[90m━━━━━━━━━━━━━━━━━━━━━━━━━━━━━━━━━━━━━\u001b[0m \u001b[32m103.5/103.5 kB\u001b[0m \u001b[31m224.8 kB/s\u001b[0m eta \u001b[36m0:00:00\u001b[0m00:01\u001b[0m\n",
      "\u001b[?25hRequirement already satisfied: typing-extensions~=4.2 in /opt/conda/lib/python3.10/site-packages (from pytket) (4.5.0)\n",
      "Requirement already satisfied: graphviz~=0.14 in /opt/conda/lib/python3.10/site-packages (from pytket) (0.20.1)\n",
      "Requirement already satisfied: jinja2~=3.0 in /opt/conda/lib/python3.10/site-packages (from pytket) (3.1.2)\n",
      "Collecting qwasm~=1.0\n",
      "  Downloading qwasm-1.0.1-py3-none-any.whl (15 kB)\n",
      "Requirement already satisfied: networkx>=2.8.8 in /opt/conda/lib/python3.10/site-packages (from pytket) (3.1)\n",
      "Collecting types-pkg-resources\n",
      "  Downloading types_pkg_resources-0.1.3-py2.py3-none-any.whl (4.8 kB)\n",
      "Requirement already satisfied: MarkupSafe>=2.0 in /opt/conda/lib/python3.10/site-packages (from jinja2~=3.0->pytket) (2.1.2)\n",
      "Requirement already satisfied: setuptools in /opt/conda/lib/python3.10/site-packages (from qwasm~=1.0->pytket) (67.7.2)\n",
      "Requirement already satisfied: mpmath>=0.19 in /opt/conda/lib/python3.10/site-packages (from sympy~=1.6->pytket) (1.3.0)\n",
      "Installing collected packages: types-pkg-resources, lark-parser, qwasm, pytket\n",
      "Successfully installed lark-parser-0.12.0 pytket-1.20.1 qwasm-1.0.1 types-pkg-resources-0.1.3\n",
      "\n",
      "\u001b[1m[\u001b[0m\u001b[34;49mnotice\u001b[0m\u001b[1;39;49m]\u001b[0m\u001b[39;49m A new release of pip available: \u001b[0m\u001b[31;49m23.1.1\u001b[0m\u001b[39;49m -> \u001b[0m\u001b[32;49m23.2.1\u001b[0m\n",
      "\u001b[1m[\u001b[0m\u001b[34;49mnotice\u001b[0m\u001b[1;39;49m]\u001b[0m\u001b[39;49m To update, run: \u001b[0m\u001b[32;49mpip install --upgrade pip\u001b[0m\n",
      "Collecting pytket-qiskit\n",
      "  Downloading pytket_qiskit-0.44.0-py3-none-any.whl (45 kB)\n",
      "\u001b[2K     \u001b[90m━━━━━━━━━━━━━━━━━━━━━━━━━━━━━━━━━━━━━━━━\u001b[0m \u001b[32m45.7/45.7 kB\u001b[0m \u001b[31m82.8 kB/s\u001b[0m eta \u001b[36m0:00:00\u001b[0ma \u001b[36m0:00:01\u001b[0m\n",
      "\u001b[?25hRequirement already satisfied: numpy in /opt/conda/lib/python3.10/site-packages (from pytket-qiskit) (1.23.5)\n",
      "Requirement already satisfied: qiskit-aer~=0.12.2 in /opt/conda/lib/python3.10/site-packages (from pytket-qiskit) (0.12.2)\n",
      "Requirement already satisfied: qiskit~=0.44.0 in /opt/conda/lib/python3.10/site-packages (from pytket-qiskit) (0.44.1)\n",
      "Collecting qiskit-ibm-runtime~=0.12.0\n",
      "  Downloading qiskit_ibm_runtime-0.12.2-py3-none-any.whl (130 kB)\n",
      "\u001b[2K     \u001b[90m━━━━━━━━━━━━━━━━━━━━━━━━━━━━━━━━━━━━━\u001b[0m \u001b[32m130.9/130.9 kB\u001b[0m \u001b[31m227.9 kB/s\u001b[0m eta \u001b[36m0:00:00\u001b[0ma \u001b[36m0:00:01\u001b[0m\n",
      "\u001b[?25hRequirement already satisfied: pytket~=1.19 in /opt/conda/lib/python3.10/site-packages (from pytket-qiskit) (1.20.1)\n",
      "Collecting qiskit-ibm-provider~=0.7.0\n",
      "  Downloading qiskit_ibm_provider-0.7.0-py3-none-any.whl (242 kB)\n",
      "\u001b[2K     \u001b[90m━━━━━━━━━━━━━━━━━━━━━━━━━━━━━━━━━━━━━\u001b[0m \u001b[32m242.9/242.9 kB\u001b[0m \u001b[31m554.7 kB/s\u001b[0m eta \u001b[36m0:00:00\u001b[0ma \u001b[36m0:00:01\u001b[0m\n",
      "\u001b[?25hRequirement already satisfied: typing-extensions~=4.2 in /opt/conda/lib/python3.10/site-packages (from pytket~=1.19->pytket-qiskit) (4.5.0)\n",
      "Requirement already satisfied: sympy~=1.6 in /opt/conda/lib/python3.10/site-packages (from pytket~=1.19->pytket-qiskit) (1.11.1)\n",
      "Requirement already satisfied: types-pkg-resources in /opt/conda/lib/python3.10/site-packages (from pytket~=1.19->pytket-qiskit) (0.1.3)\n",
      "Requirement already satisfied: qwasm~=1.0 in /opt/conda/lib/python3.10/site-packages (from pytket~=1.19->pytket-qiskit) (1.0.1)\n",
      "Requirement already satisfied: networkx>=2.8.8 in /opt/conda/lib/python3.10/site-packages (from pytket~=1.19->pytket-qiskit) (3.1)\n",
      "Requirement already satisfied: graphviz~=0.14 in /opt/conda/lib/python3.10/site-packages (from pytket~=1.19->pytket-qiskit) (0.20.1)\n",
      "Requirement already satisfied: scipy<2.0,>=1.7.2 in /opt/conda/lib/python3.10/site-packages (from pytket~=1.19->pytket-qiskit) (1.9.3)\n",
      "Requirement already satisfied: jinja2~=3.0 in /opt/conda/lib/python3.10/site-packages (from pytket~=1.19->pytket-qiskit) (3.1.2)\n",
      "Requirement already satisfied: lark-parser~=0.7 in /opt/conda/lib/python3.10/site-packages (from pytket~=1.19->pytket-qiskit) (0.12.0)\n",
      "Requirement already satisfied: qiskit-terra==0.25.1 in /opt/conda/lib/python3.10/site-packages (from qiskit~=0.44.0->pytket-qiskit) (0.25.1)\n",
      "Requirement already satisfied: python-dateutil>=2.8.0 in /opt/conda/lib/python3.10/site-packages (from qiskit-terra==0.25.1->qiskit~=0.44.0->pytket-qiskit) (2.8.2)\n",
      "Requirement already satisfied: symengine<0.10,>=0.9 in /opt/conda/lib/python3.10/site-packages (from qiskit-terra==0.25.1->qiskit~=0.44.0->pytket-qiskit) (0.9.2)\n",
      "Requirement already satisfied: stevedore>=3.0.0 in /opt/conda/lib/python3.10/site-packages (from qiskit-terra==0.25.1->qiskit~=0.44.0->pytket-qiskit) (4.1.1)\n",
      "Requirement already satisfied: rustworkx>=0.13.0 in /opt/conda/lib/python3.10/site-packages (from qiskit-terra==0.25.1->qiskit~=0.44.0->pytket-qiskit) (0.13.0)\n",
      "Requirement already satisfied: ply>=3.10 in /opt/conda/lib/python3.10/site-packages (from qiskit-terra==0.25.1->qiskit~=0.44.0->pytket-qiskit) (3.11)\n",
      "Requirement already satisfied: dill>=0.3 in /opt/conda/lib/python3.10/site-packages (from qiskit-terra==0.25.1->qiskit~=0.44.0->pytket-qiskit) (0.3.7)\n",
      "Requirement already satisfied: psutil>=5 in /opt/conda/lib/python3.10/site-packages (from qiskit-terra==0.25.1->qiskit~=0.44.0->pytket-qiskit) (5.9.4)\n",
      "Requirement already satisfied: urllib3>=1.21.1 in /opt/conda/lib/python3.10/site-packages (from qiskit-ibm-provider~=0.7.0->pytket-qiskit) (1.26.15)\n",
      "Requirement already satisfied: requests>=2.19 in /opt/conda/lib/python3.10/site-packages (from qiskit-ibm-provider~=0.7.0->pytket-qiskit) (2.28.2)\n",
      "Requirement already satisfied: requests-ntlm>=1.1.0 in /opt/conda/lib/python3.10/site-packages (from qiskit-ibm-provider~=0.7.0->pytket-qiskit) (1.1.0)\n",
      "Requirement already satisfied: websockets>=10.0 in /opt/conda/lib/python3.10/site-packages (from qiskit-ibm-provider~=0.7.0->pytket-qiskit) (10.4)\n",
      "Requirement already satisfied: websocket-client>=1.5.1 in /opt/conda/lib/python3.10/site-packages (from qiskit-ibm-provider~=0.7.0->pytket-qiskit) (1.5.3)\n",
      "Requirement already satisfied: ibm-platform-services>=0.22.6 in /opt/conda/lib/python3.10/site-packages (from qiskit-ibm-runtime~=0.12.0->pytket-qiskit) (0.30.3)\n",
      "Requirement already satisfied: ibm-cloud-sdk-core<4.0.0,>=3.16.0 in /opt/conda/lib/python3.10/site-packages (from ibm-platform-services>=0.22.6->qiskit-ibm-runtime~=0.12.0->pytket-qiskit) (3.16.1)\n",
      "Requirement already satisfied: MarkupSafe>=2.0 in /opt/conda/lib/python3.10/site-packages (from jinja2~=3.0->pytket~=1.19->pytket-qiskit) (2.1.2)\n",
      "Requirement already satisfied: six>=1.5 in /opt/conda/lib/python3.10/site-packages (from python-dateutil>=2.8.0->qiskit-terra==0.25.1->qiskit~=0.44.0->pytket-qiskit) (1.16.0)\n",
      "Requirement already satisfied: setuptools in /opt/conda/lib/python3.10/site-packages (from qwasm~=1.0->pytket~=1.19->pytket-qiskit) (67.7.2)\n",
      "Requirement already satisfied: certifi>=2017.4.17 in /opt/conda/lib/python3.10/site-packages (from requests>=2.19->qiskit-ibm-provider~=0.7.0->pytket-qiskit) (2022.12.7)\n",
      "Requirement already satisfied: idna<4,>=2.5 in /opt/conda/lib/python3.10/site-packages (from requests>=2.19->qiskit-ibm-provider~=0.7.0->pytket-qiskit) (3.4)\n",
      "Requirement already satisfied: charset-normalizer<4,>=2 in /opt/conda/lib/python3.10/site-packages (from requests>=2.19->qiskit-ibm-provider~=0.7.0->pytket-qiskit) (3.1.0)\n",
      "Requirement already satisfied: ntlm-auth>=1.0.2 in /opt/conda/lib/python3.10/site-packages (from requests-ntlm>=1.1.0->qiskit-ibm-provider~=0.7.0->pytket-qiskit) (1.5.0)\n",
      "Requirement already satisfied: cryptography>=1.3 in /opt/conda/lib/python3.10/site-packages (from requests-ntlm>=1.1.0->qiskit-ibm-provider~=0.7.0->pytket-qiskit) (40.0.2)\n",
      "Requirement already satisfied: mpmath>=0.19 in /opt/conda/lib/python3.10/site-packages (from sympy~=1.6->pytket~=1.19->pytket-qiskit) (1.3.0)\n",
      "Requirement already satisfied: cffi>=1.12 in /opt/conda/lib/python3.10/site-packages (from cryptography>=1.3->requests-ntlm>=1.1.0->qiskit-ibm-provider~=0.7.0->pytket-qiskit) (1.15.1)\n",
      "Requirement already satisfied: PyJWT<3.0.0,>=2.4.0 in /opt/conda/lib/python3.10/site-packages (from ibm-cloud-sdk-core<4.0.0,>=3.16.0->ibm-platform-services>=0.22.6->qiskit-ibm-runtime~=0.12.0->pytket-qiskit) (2.6.0)\n",
      "Requirement already satisfied: pbr!=2.1.0,>=2.0.0 in /opt/conda/lib/python3.10/site-packages (from stevedore>=3.0.0->qiskit-terra==0.25.1->qiskit~=0.44.0->pytket-qiskit) (5.11.1)\n",
      "Requirement already satisfied: pycparser in /opt/conda/lib/python3.10/site-packages (from cffi>=1.12->cryptography>=1.3->requests-ntlm>=1.1.0->qiskit-ibm-provider~=0.7.0->pytket-qiskit) (2.21)\n",
      "Installing collected packages: qiskit-ibm-provider, qiskit-ibm-runtime, pytket-qiskit\n",
      "  Attempting uninstall: qiskit-ibm-provider\n",
      "    Found existing installation: qiskit-ibm-provider 0.6.3\n",
      "    Uninstalling qiskit-ibm-provider-0.6.3:\n",
      "      Successfully uninstalled qiskit-ibm-provider-0.6.3\n",
      "  Attempting uninstall: qiskit-ibm-runtime\n",
      "    Found existing installation: qiskit-ibm-runtime 0.11.3\n",
      "    Uninstalling qiskit-ibm-runtime-0.11.3:\n",
      "      Successfully uninstalled qiskit-ibm-runtime-0.11.3\n",
      "Successfully installed pytket-qiskit-0.44.0 qiskit-ibm-provider-0.7.0 qiskit-ibm-runtime-0.12.2\n",
      "\n",
      "\u001b[1m[\u001b[0m\u001b[34;49mnotice\u001b[0m\u001b[1;39;49m]\u001b[0m\u001b[39;49m A new release of pip available: \u001b[0m\u001b[31;49m23.1.1\u001b[0m\u001b[39;49m -> \u001b[0m\u001b[32;49m23.2.1\u001b[0m\n",
      "\u001b[1m[\u001b[0m\u001b[34;49mnotice\u001b[0m\u001b[1;39;49m]\u001b[0m\u001b[39;49m To update, run: \u001b[0m\u001b[32;49mpip install --upgrade pip\u001b[0m\n"
     ]
    }
   ],
   "source": [
    "!pip install pytket pytket-qiskit pytket-quantinuum "
   ]
  },
  {
   "cell_type": "code",
   "execution_count": null,
   "id": "0d83b7fe-7b37-419a-81c8-91891ee30f4c",
   "metadata": {
    "tags": []
   },
   "outputs": [],
   "source": []
  },
  {
   "cell_type": "code",
   "execution_count": 356,
   "id": "446e04bb-a7a6-4173-9d0a-066c0576874a",
   "metadata": {
    "tags": []
   },
   "outputs": [],
   "source": [
    "from pytket.extensions.qiskit.tket_backend import TketBackend\n",
    "from qiskit import Aer\n",
    "from qiskit.primitives import BackendEstimator\n",
    "from pytket.extensions.quantinuum import QuantinuumBackend\n",
    "\n",
    "# # simulator = Aer.get_backend('aer_simulator')\n",
    "# # aer_backend = BackendEstimator(simulator, options={\"shots\": 500})\n",
    "\n",
    "# machine = 'H1-2E'\n",
    "# backend_emu = QuantinuumBackend(device_name=machine)\n",
    "# backend_emu.login()\n",
    "# qis_backend = TketBackend(backend_emu)\n",
    "# qestimator = BackendEstimator(qis_backend, options={\"shots\": 100})"
   ]
  },
  {
   "cell_type": "code",
   "execution_count": 358,
   "id": "d5c11cc7-0f77-45dc-a9f1-b0acad7c3004",
   "metadata": {
    "tags": []
   },
   "outputs": [
    {
     "name": "stdout",
     "output_type": "stream",
     "text": [
      "\u001b[31mERROR: Could not find a version that satisfies the requirement qtuum (from versions: none)\u001b[0m\u001b[31m\n",
      "\u001b[0m\u001b[31mERROR: No matching distribution found for qtuum\u001b[0m\u001b[31m\n",
      "\u001b[0m\n",
      "\u001b[1m[\u001b[0m\u001b[34;49mnotice\u001b[0m\u001b[1;39;49m]\u001b[0m\u001b[39;49m A new release of pip is available: \u001b[0m\u001b[31;49m22.3.1\u001b[0m\u001b[39;49m -> \u001b[0m\u001b[32;49m23.2.1\u001b[0m\n",
      "\u001b[1m[\u001b[0m\u001b[34;49mnotice\u001b[0m\u001b[1;39;49m]\u001b[0m\u001b[39;49m To update, run: \u001b[0m\u001b[32;49mpip install --upgrade pip\u001b[0m\n"
     ]
    }
   ],
   "source": [
    "!pip install qtuum"
   ]
  },
  {
   "cell_type": "code",
   "execution_count": 357,
   "id": "6aeee4b5-5b4e-4477-bcd1-1d71ee28b639",
   "metadata": {
    "tags": []
   },
   "outputs": [
    {
     "name": "stdout",
     "output_type": "stream",
     "text": [
      "Traceback \u001b[1;36m(most recent call last)\u001b[0m:\n",
      "\u001b[1;36m  Cell \u001b[1;32mIn[357], line 5\u001b[1;36m\n",
      "\u001b[1;33m    from qtuum.api_wrappers import QuantinuumAPI as QAPI\u001b[1;36m\n",
      "\u001b[1;31mModuleNotFoundError\u001b[0m\u001b[1;31m:\u001b[0m No module named 'qtuum'\n",
      "\n",
      "Use %tb to get the full traceback.\n"
     ]
    },
    {
     "data": {
      "text/html": [
       "\n",
       "<style>\n",
       ".button {\n",
       "  border: none;\n",
       "  color: white;\n",
       "  padding: 4px 8px;\n",
       "  text-align: center;\n",
       "  text-decoration: none;\n",
       "  display: inline-block;\n",
       "  font-size: 12px;\n",
       "  margin: 4px 2px;\n",
       "  transition-duration: 0.2s;\n",
       "  cursor: pointer;\n",
       "}\n",
       ".iqx-button {\n",
       "  background-color: #0f62fe; \n",
       "  color: white; \n",
       "}\n",
       ".iqx-button:hover {\n",
       "  background-color: #0043ce;\n",
       "  color: white;\n",
       "}\n",
       "</style>\n",
       "<a href=\"https://stackoverflow.com/search?q=ModuleNotFoundError: No module named 'qtuum'\" target='_blank'><button class='button iqx-button'>Search for solution online</button></a>\n"
      ],
      "text/plain": [
       "<IPython.core.display.HTML object>"
      ]
     },
     "metadata": {},
     "output_type": "display_data"
    }
   ],
   "source": [
    "qc = QuantumCircuit(2)\n",
    "qc.x(0)\n",
    "\n",
    "\n",
    "from qtuum.api_wrappers import QuantinuumAPI as QAPI\n",
    "import time\n",
    "machine = 'H1-1E'\n",
    "qapi = QAPI(machine=machine)\n",
    "print('Machine status:', qapi.machine, 'is', qapi.status())\n",
    "\n",
    "shots = 1\n",
    "job_id = qapi.submit_job(openqasm, \n",
    "                         shots=shots, \n",
    "                         machine=machine, \n",
    "                         name='circuit example')\n"
   ]
  },
  {
   "cell_type": "code",
   "execution_count": 375,
   "id": "b992eb25-c979-44ac-96fd-90717cfe9e72",
   "metadata": {
    "tags": []
   },
   "outputs": [],
   "source": [
    "II = np.array([[1,0],[0,1]])\n",
    "ZZ = np.array([[1,0],[0,-1]])\n",
    "XX = np.array([[0,1],[1,0]])\n",
    "YY = np.array([[0,-1.j],[1.j,0]])\n",
    " \n",
    "# Outputs the Kroneker product of two matrices\n",
    "def kroneker_product(a,b):\n",
    "    \n",
    "    row = a.shape[0]*b.shape[0]    # Calculates no.of rows of the product matrix \n",
    "    col = a.shape[1]*b.shape[1]    # Calculates no.of columns of the product matrix\n",
    "    \n",
    "    z1 = a[:,:,None] \n",
    "    z2 = b[:,None,:]\n",
    "    z3 = z1[:,None]*z2     # caries out the element-wise product in 3 and 4 dimension space(a is converted to 4 dimension matrix and b is converted to 3 Dimension matrix)  \n",
    "    z3.shape = (row,col)   # reshapes the array to the dimensions calculated perviously\n",
    "    return z3\n",
    "\n",
    "# Pauli Decomposition function\n",
    "def pauli_decomposition(nqubits,M): # M - Hamiltonain matrix, nqubits - no.of qubits\n",
    "     \n",
    "    Pauli = [II,XX,YY,ZZ]              # List of pauli gates \n",
    "    Pauli_Names = [\"I\",\"X\",\"Y\",\"Z\"] # Names of the pauli gates \n",
    "    \n",
    "    pauli_decomp = []  \n",
    "    ranges = [[0,4]] * nqubits      # this is a list\n",
    "    operations = 4**nqubits-1       # operations = 4^nqubits-1 e.g for 2 qubits we have 16 combinations II,IX,IY,IZ,XI,XX,.....,ZZ \n",
    "    result =[0] * nqubits \n",
    "    \n",
    "    pos = nqubits-1\n",
    "    inc = -1\n",
    "    result[pos] = -1\n",
    "\n",
    "    while inc < operations:\n",
    "        \n",
    "        if result[pos]==ranges[pos][1]-1:\n",
    "            result[pos]=ranges[pos][0]\n",
    "            pos-=1\n",
    "    \n",
    "        else:\n",
    "            result[pos]+=1\n",
    "            inc+=1\n",
    "            pos=len(ranges)-1 \n",
    "                     \n",
    "            if nqubits == 1:\n",
    "                P = Pauli[result[0]]\n",
    "            else:\n",
    "                P = kroneker_product(Pauli[result[0]],Pauli[result[1]])\n",
    "                \n",
    "                for ii in range(2,nqubits):\n",
    "                    P = kroneker_product(P,Pauli[result[ii]])\n",
    "                   \n",
    "           \n",
    "            coeff = (1/(2**(nqubits))) * (P*M.T).sum()                     \n",
    "            if (abs(coeff) > 1e-8):                                    # this value is by default set in qiskit as 10**(-8), therefore using the same value                                      \n",
    "                name = Pauli_Names[result[0]]\n",
    "                \n",
    "                for ii in range(1,nqubits):\n",
    "                    name =  name + Pauli_Names[result[ii]]\n",
    "                pauli_decomp.append([coeff,name]) \n",
    "                               \n",
    "    return pauli_decomp"
   ]
  },
  {
   "cell_type": "code",
   "execution_count": 376,
   "id": "0afa98f0-169f-4804-b135-c04f9d82e8cb",
   "metadata": {
    "tags": []
   },
   "outputs": [],
   "source": [
    "# Function definition for Hadamard test  \n",
    "\n",
    "def Hadamard_test(U, Ansatz, qubits, Str):\n",
    "    qc = QuantumCircuit(qubits+1,1)\n",
    "    \n",
    "    qc.append(Ansatz, list(range(1,nqubits+1)))\n",
    "    \n",
    "    if Str == \"c\":\n",
    "        qc.h(0)\n",
    "        qc.sdg(0)\n",
    "        qc.barrier()\n",
    "        qc = qc.compose(U.control(1),list(range(0,qubits+1)))\n",
    "        qc.barrier()\n",
    "        qc.h(0)\n",
    "    \n",
    "    elif Str == \"r\":\n",
    "        qc.h(0)\n",
    "        qc.barrier()\n",
    "        qc = qc.compose(U.control(1),list(range(0,qubits+1)))\n",
    "        qc.barrier()\n",
    "\n",
    "        qc.h(0)\n",
    "    else:\n",
    "        print(\"Incorrect String\")\n",
    "        \n",
    "    \n",
    "    return qc\n",
    "\n",
    "# def Psi(qubits,initial_state):\n",
    "    \n",
    "#     qc = QuantumCircuit(qubits, name=\"Psi\")\n",
    "#     for i in range(len(initial_state)):\n",
    "#         if initial_state[i] == '1':\n",
    "#             qc.x(i)\n",
    "    \n",
    "#     # StateVector = [1/np.sqrt(2), 1/np.sqrt(2)]\n",
    "#     # qc.initialize( StateVector , list(range(qubits)))     # For Statevector\n",
    "#     return qc\n",
    "\n",
    "\n",
    "# Measurement methods StateVector/Matrix Multiplication/ QASM simulator \n",
    "\n",
    "def statevector(circ):\n",
    "    sv = Statevector(circ) \n",
    "    \n",
    "    probs_qubit_0 = sv.probabilities([0])\n",
    "    #print('Qubit_0 probabilities for 0 and 1 are: {}\\n'.format(np.round(probs_qubit_0,4)))\n",
    "    p_0 = probs_qubit_0[0]\n",
    "    p_1 = probs_qubit_0[1]\n",
    "\n",
    "    return p_0-p_1\n",
    "\n",
    "def qiskitOP(U,psi,nqubits):\n",
    "    psi_=CircuitStateFn(psi)\n",
    "    U_ = CircuitOp(U)\n",
    "    #print(psi_.adjoint().compose(U_).compose(psi_).eval())\n",
    "    return psi_.adjoint().compose(U_).compose(psi_).eval().real, psi_.adjoint().compose(U_).compose(psi_).eval().imag\n",
    "\n",
    "\n",
    "def qasm(circ):             # text = \"ev\" - for epectation value and text = \"state\" for output state\n",
    "\n",
    "    circ.measure(0,0)\n",
    "   \n",
    "    backend = Aer.get_backend('qasm_simulator')\n",
    "\n",
    "    shots=1000\n",
    "    result = execute(circ,backend, shots=shots).result()\n",
    "    \n",
    "    \n",
    "    counts = result.get_counts()\n",
    "    \n",
    "    if len(counts) == 1:\n",
    "        if \"1\" in counts:\n",
    "            p0=0\n",
    "            p1=1\n",
    "        else:\n",
    "            p0=1\n",
    "            p1=0\n",
    "    else:\n",
    "        p0 = counts['0']/shots\n",
    "        p1 = counts['1']/shots\n",
    "    \n",
    "    return p0 - p1 \n"
   ]
  },
  {
   "cell_type": "code",
   "execution_count": 377,
   "id": "f7d5ad4a-c709-4ff5-ba1a-8307827672a9",
   "metadata": {
    "tags": []
   },
   "outputs": [],
   "source": [
    "# Calculating the expectation value of pauli string\n",
    "\n",
    "def ExpectationOfPauli(decomp_res,nqubits,approach,Ansatz):\n",
    "    ExpValuesReal = []\n",
    "    \n",
    "    real=0\n",
    "    expVal=0\n",
    "    \n",
    "    for ii in range(len(decomp_res)):\n",
    "        U = QuantumCircuit(nqubits)\n",
    "        Str = decomp_res[ii][1]\n",
    "        for i in range(len(Str)):\n",
    "            if Str[i] == \"X\":\n",
    "                U.x(i)\n",
    "            elif Str[i] ==\"Y\":\n",
    "                U.y(i)\n",
    "            elif Str[i] ==\"Z\":\n",
    "                U.z(i)\n",
    "            else:\n",
    "                pass\n",
    "        \n",
    "        U_gate = U.to_gate(label=\"U gate\")\n",
    "        \n",
    "        circ_real = Hadamard_test(U_gate, Ansatz ,nqubits, Str=\"r\")\n",
    "        \n",
    "        if approach==\"statevector\":   # circuit based approach. Mathematical probability output of the circuit.\n",
    "            real = statevector(circ_real)\n",
    "            # imaginary = statevector(circ_complex) \n",
    "\n",
    "        elif approach==\"qiskitOP\":     # Directly calculating <Psi|H|Psi> using matrix multiplication\n",
    "            real ,imaginary = qiskitOP(U, psi, nqubits)\n",
    "\n",
    "        else :        # circuit based approach. Simulating QC on classical  \n",
    "            real = qasm(circ_real)\n",
    "            # imaginary = qasm(circ_complex)\n",
    "\n",
    "        ExpValuesReal.append(real)\n",
    "        # ExpValuesImg.append(imaginary)\n",
    "        num = real  \n",
    "        \n",
    "        # print(decomp_res[ii][0]*num)\n",
    "        expVal += (decomp_res[ii][0]*num)\n",
    "        \n",
    "        \n",
    "    return ExpValuesReal, expVal\n",
    "\n",
    "\n",
    "def test_expectation_value(K,psi):\n",
    "     \n",
    "    psi_ = CircuitStateFn(psi)\n",
    "    psi_ = np.matrix(psi_.eval().to_matrix())\n",
    "    # print(psi_.shape)\n",
    "    \n",
    "    ss = Qobj(psi_)\n",
    "    kk = Qobj(K)\n",
    "    ss_ = Qobj(np.transpose(psi_))\n",
    "    \n",
    "    # print(ss.shape, kk.shape, ss_.shape)\n",
    "    return ss*kk*ss_"
   ]
  },
  {
   "cell_type": "code",
   "execution_count": 378,
   "id": "05dc93f8-3f54-4970-9f82-12d8d533f825",
   "metadata": {
    "tags": []
   },
   "outputs": [],
   "source": [
    "# def Layer(n,theta):\n",
    "    \n",
    "#     count=0\n",
    "#     q=QuantumCircuit(n)\n",
    "\n",
    "#     for i in range(n):\n",
    "#         for j in range(i):\n",
    "#             if (i!=j):\n",
    "#                 q.cx(j,i)\n",
    "    \n",
    "#     for i in range(n):\n",
    "#         q.ry(theta[count],i)\n",
    "#         count+=1\n",
    "    \n",
    "#     # for i in range(n):\n",
    "#     #     q.rz(theta[count],i)\n",
    "#     #     count+=1\n",
    "    \n",
    "        \n",
    "#     return q\n",
    "\n",
    "# def Ansatz(n,l):\n",
    "#     num_params = int(n)\n",
    "#     a = ParameterVector('a', n+(n)*l)\n",
    "    \n",
    "#     # print(n+(2*n-2)*l)\n",
    "#     if l==0:\n",
    "#         qc=QuantumCircuit(n)\n",
    "#         [qc.ry(a[p],p) for p in range(n)]\n",
    "#         #[qc.rz(a[n+p],p) for p in range(n)]\n",
    "\n",
    "#     else:\n",
    "#         qc=QuantumCircuit(n)\n",
    "#         # Apply layer 0\n",
    "#         [qc.ry(a[p],p) for p in range(n)]\n",
    "#         #[qc.rz(a[n+p],p) for p in range(n)]\n",
    "#         qc.barrier()\n",
    "#         # Apply Layers l\n",
    "#         for j in range(1,l+1):\n",
    "#             par = a[n+(j-1)*num_params:(n+(j-1)*num_params)+num_params] \n",
    "            \n",
    "#             layer = Layer(n,par)\n",
    "            \n",
    "#             qc = qc.compose(layer)\n",
    "#             qc.barrier()\n",
    "#     return qc, a\n",
    "\n",
    "\n",
    "\n",
    "def Ansatz(n,l,Str ):\n",
    "    if Str == 'EfficientSU2':\n",
    "        qc = EfficientSU2(n, reps=l, entanglement='full', skip_unentangled_qubits=False, parameter_prefix='a')\n",
    "        \n",
    "    elif Str == 'Twolocal':\n",
    "        qc = TwoLocal(n, ['ry','ry'], 'cx', 'full', reps=l, insert_barriers=False, parameter_prefix='a')\n",
    "        \n",
    "    elif Str == 'NLocal':\n",
    "        qc = NLocal(n, ['ry','ry'], 'cx', 'full', reps=l, insert_barriers=False, parameter_prefix='a')    \n",
    "        \n",
    "    elif Str == 'RealAmplitudes':\n",
    "        qc = RealAmplitudes(n, entanglement='full', reps=l, parameter_prefix='a')\n",
    "        \n",
    "    # elif Str == 'ExcitationPreserving':\n",
    "    #     qc = ExcitationPreserving(n, reps=l, entanglement='full', skip_unentangled_qubits=False, parameter_prefix='a',mode='fsim')\n",
    "        \n",
    "    else:\n",
    "        raise Exception(\"Enter correct input\")\n",
    "        \n",
    "    return qc,qc.parameters"
   ]
  },
  {
   "cell_type": "code",
   "execution_count": 379,
   "id": "1e8afd56-b5a1-4e12-b86a-861afa8aa90e",
   "metadata": {
    "tags": []
   },
   "outputs": [],
   "source": [
    "nqubits = 2\n",
    "l=1\n",
    "circ, num_param = Ansatz(nqubits, l, 'RealAmplitudes')\n",
    "\n",
    "params = np.random.uniform(low=0, high=2*np.pi, size=(len(num_param),))"
   ]
  },
  {
   "cell_type": "code",
   "execution_count": 380,
   "id": "0ad34c84-aa32-4be7-a05d-7d8df2dc5b2f",
   "metadata": {
    "tags": []
   },
   "outputs": [
    {
     "data": {
      "text/plain": [
       "(4, 4)"
      ]
     },
     "execution_count": 380,
     "metadata": {},
     "output_type": "execute_result"
    }
   ],
   "source": [
    "line_lattice = LineLattice(num_nodes=nqubits, boundary_condition=BoundaryCondition.OPEN)\n",
    "\n",
    "ising_model = IsingModel(\n",
    "    line_lattice.uniform_parameters(\n",
    "        uniform_interaction=-1.0,\n",
    "        uniform_onsite_potential=-1.0,\n",
    "    ),\n",
    ")\n",
    "\n",
    "Ham_1 = ising_model.second_q_op().simplify()\n",
    "H = Ham_1.to_matrix()\n",
    "H.shape"
   ]
  },
  {
   "cell_type": "code",
   "execution_count": 381,
   "id": "c01dbe65-607f-4802-b7b4-3ea8c48caf69",
   "metadata": {
    "tags": []
   },
   "outputs": [],
   "source": [
    "def ExpectationValue(H,Ansatz,params, nqubits):\n",
    "    Ansatz = Ansatz.bind_parameters(params)\n",
    "    \n",
    "    decom = pauli_decomposition(nqubits,H)\n",
    "    a,expVal = ExpectationOfPauli(decom,nqubits,\"qasm\",Ansatz)\n",
    "    \n",
    "    #test = test_expectation_value(H,Psi(nqubits,state_psi))\n",
    "    \n",
    "    return expVal\n",
    "\n",
    "\n",
    "aa= ExpectationValue(H,circ,params, nqubits)\n",
    "\n",
    "# print(\"Calculated Expectation value is\",aa)"
   ]
  },
  {
   "cell_type": "code",
   "execution_count": 382,
   "id": "d8cb1352-164f-4510-8c41-e0f4b295c156",
   "metadata": {
    "tags": []
   },
   "outputs": [],
   "source": [
    "Dict = {'I':I, 'X':X, 'Y':Y, 'Z':Z}\n",
    "decom = pauli_decomposition(nqubits,H)\n",
    "\n",
    "for i in range(len(decom)):\n",
    "    Str = decom[i][1]\n",
    "    temp = Dict[Str[0]]\n",
    "    \n",
    "    for ii in range(1,len(Str)):\n",
    "        temp ^= Dict[Str[ii]] \n",
    "\n",
    "    if i ==0:\n",
    "        HH = decom[0][0] * temp\n",
    "    else:\n",
    "        HH += decom[i][0] * temp\n",
    "\n",
    "def gradient(circ,a, H,nqubits,l,params,num_param, method):\n",
    "\n",
    "\n",
    "        value_dict={}\n",
    "        for i in range(num_param):   \n",
    "            value_dict[a[i]]=params[i]\n",
    "\n",
    "        op = ~StateFn(HH) @ CircuitStateFn(primitive=circ)\n",
    "\n",
    "        if method==\"p\":\n",
    "            state_grad = Gradient(grad_method='param_shift').convert(operator=op, params=a)\n",
    "            state_grad_result = state_grad.assign_parameters(value_dict).eval()\n",
    "        elif method==\"f\":\n",
    "            state_grad = Gradient(grad_method='fin_diff').convert(operator=op, params=a)\n",
    "            state_grad_result = state_grad.assign_parameters(value_dict).eval()\n",
    "        elif method==\"l\":\n",
    "            state_grad = Gradient(grad_method='lin_comb').convert(operator=op, params=a)\n",
    "            state_grad_result = state_grad.assign_parameters(value_dict).eval()\n",
    "\n",
    "\n",
    "        return [np.real(i) for i in state_grad_result]\n"
   ]
  },
  {
   "cell_type": "code",
   "execution_count": 383,
   "id": "53b655c8-f502-4f3c-a213-638cde3091f9",
   "metadata": {
    "tags": []
   },
   "outputs": [],
   "source": [
    "def obj_fun(params):\n",
    "    \n",
    "    def ExpectationValue(H,Ansatz,params, nqubits):\n",
    "        \n",
    "        Ansatz = Ansatz.bind_parameters(params)\n",
    "        decom = pauli_decomposition(nqubits,H)\n",
    "        a,expVal = ExpectationOfPauli(decom,nqubits,\"qasm\",Ansatz)\n",
    "        \n",
    "        return expVal\n",
    "    return ExpectationValue(H,circ,params, nqubits)"
   ]
  },
  {
   "cell_type": "code",
   "execution_count": 384,
   "id": "d31c9297-2b85-4a13-8ef0-12806db7ab63",
   "metadata": {
    "tags": []
   },
   "outputs": [],
   "source": [
    "eigenvalues = np.linalg.eigvals(H)"
   ]
  },
  {
   "cell_type": "code",
   "execution_count": 385,
   "id": "b0652c41-b68d-443d-a2ae-016d143dd49c",
   "metadata": {
    "tags": []
   },
   "outputs": [
    {
     "name": "stdout",
     "output_type": "stream",
     "text": [
      "Energy is: (-0.02250000000000002+0j)\n",
      "------\n",
      "Energy is: (-0.5215000000000001+0j)\n",
      "------\n",
      "Energy is: (-0.256+0j)\n",
      "------\n",
      "Energy is: (-0.24399999999999997+0j)\n",
      "------\n",
      "Energy is: (-0.9035000000000001+0j)\n",
      "------\n",
      "Energy is: (-0.9095+0j)\n",
      "------\n",
      "Energy is: (-0.9335+0j)\n",
      "------\n",
      "Energy is: (-1.0065+0j)\n",
      "------\n",
      "Energy is: (-1.02+0j)\n",
      "------\n",
      "Energy is: (-0.8699999999999999+0j)\n",
      "------\n",
      "Energy is: (-1.026+0j)\n",
      "------\n",
      "Energy is: (-0.984+0j)\n",
      "------\n",
      "Energy is: (-0.9994999999999999+0j)\n",
      "------\n",
      "Energy is: (-0.9405000000000001+0j)\n",
      "------\n",
      "Energy is: (-0.9924999999999999+0j)\n",
      "------\n",
      "Energy is: (-0.9829999999999999+0j)\n",
      "------\n",
      "Energy is: (-1.0135+0j)\n",
      "------\n",
      "Energy is: (-1.0105+0j)\n",
      "------\n",
      "Energy is: (-1.012+0j)\n",
      "------\n",
      "Energy is: (-1.03+0j)\n",
      "------\n",
      "Energy is: (-1.025+0j)\n",
      "------\n",
      "Energy is: (-1.0205+0j)\n",
      "------\n",
      "Energy is: (-1.0345+0j)\n",
      "------\n",
      "Energy is: (-1.016+0j)\n",
      "------\n",
      "Energy is: (-1.039+0j)\n",
      "------\n",
      "Energy is: (-1.0145+0j)\n",
      "------\n",
      "Energy is: (-1.0314999999999999+0j)\n",
      "------\n",
      "Energy is: (-1.043+0j)\n",
      "------\n",
      "Energy is: (-1.029+0j)\n",
      "------\n",
      "Energy is: (-1.0175+0j)\n",
      "------\n",
      "Energy is: (-1.024+0j)\n",
      "------\n",
      "Energy is: (-1.0405+0j)\n",
      "------\n",
      "Energy is: (-1.017+0j)\n",
      "------\n",
      "Energy is: (-1.039+0j)\n",
      "------\n",
      "Energy is: (-1.0245+0j)\n",
      "------\n",
      "Energy is: (-1.0234999999999999+0j)\n",
      "------\n",
      "Energy is: (-1.0145+0j)\n",
      "------\n",
      "Energy is: (-1.034+0j)\n",
      "------\n",
      "Energy is: (-1.0354999999999999+0j)\n",
      "------\n",
      "Energy is: (-1.0274999999999999+0j)\n",
      "------\n",
      "Energy is: (-1.041+0j)\n",
      "------\n",
      "Energy is: (-1.011+0j)\n",
      "------\n",
      "Energy is: (-1.029+0j)\n",
      "------\n",
      "Energy is: (-1.0205+0j)\n",
      "------\n",
      "Energy is: (-1.0365+0j)\n",
      "------\n",
      "Energy is: (-1.0314999999999999+0j)\n",
      "------\n",
      "Energy is: (-1.0295+0j)\n",
      "------\n",
      "Energy is: (-1.03+0j)\n",
      "------\n",
      "Energy is: (-1.0155+0j)\n",
      "------\n",
      "Energy is: (-1.027+0j)\n",
      "------\n",
      "Energy is: (-1.0274999999999999+0j)\n",
      "------\n",
      "Energy is: (-1.026+0j)\n",
      "------\n",
      "Energy is: (-1.0265+0j)\n",
      "------\n",
      "Energy is: (-1.018+0j)\n",
      "------\n",
      "Energy is: (-1.0365+0j)\n",
      "------\n",
      "Energy is: (-1.02+0j)\n",
      "------\n",
      "Energy is: (-1.027+0j)\n",
      "------\n",
      "Energy is: (-1.0225+0j)\n",
      "------\n",
      "Energy is: (-1.009+0j)\n",
      "------\n",
      "Energy is: (-1.022+0j)\n",
      "------\n",
      "Energy is: (-1.019+0j)\n",
      "------\n",
      "Energy is: (-1.032+0j)\n",
      "------\n",
      "Energy is: (-1.0245+0j)\n",
      "------\n",
      "Energy is: (-1.027+0j)\n",
      "------\n",
      "Energy is: (-1.019+0j)\n",
      "------\n",
      "Energy is: (-1.019+0j)\n",
      "------\n",
      "Energy is: (-1.0295+0j)\n",
      "------\n",
      "Energy is: (-1.0125+0j)\n",
      "------\n",
      "Energy is: (-1.046+0j)\n",
      "------\n",
      "Energy is: (-1.049+0j)\n",
      "------\n",
      "Energy is: (-1.0335+0j)\n",
      "------\n",
      "Quantum solution :  -1.027\n",
      "Numpy solution :  -1.0307764064044154\n"
     ]
    }
   ],
   "source": [
    "def grad(params):\n",
    "    def gradient(circ,a, H,nqubits,l,params,num_param, method):\n",
    "\n",
    "        value_dict={}\n",
    "        for i in range(num_param):   \n",
    "            value_dict[a[i]]=params[i]\n",
    "\n",
    "        op = ~StateFn(HH) @ CircuitStateFn(primitive=circ)\n",
    "\n",
    "        if method==\"p\":\n",
    "            state_grad = Gradient(grad_method='param_shift').convert(operator=op, params=a)\n",
    "            state_grad_result = state_grad.assign_parameters(value_dict).eval()\n",
    "        elif method==\"f\":\n",
    "            state_grad = Gradient(grad_method='fin_diff').convert(operator=op, params=a)\n",
    "            state_grad_result = state_grad.assign_parameters(value_dict).eval()\n",
    "        elif method==\"l\":\n",
    "            state_grad = Gradient(grad_method='lin_comb').convert(operator=op, params=a)\n",
    "            state_grad_result = state_grad.assign_parameters(value_dict).eval()\n",
    "\n",
    "\n",
    "        return [np.real(i) for i in state_grad_result]\n",
    "        \n",
    "        \n",
    "    return gradient(circ,a, H,nqubits,l,params,num_param, method=\"p\")\n",
    "   \n",
    "def CB(params):\n",
    "    a = obj_fun(params)\n",
    "    exp_val_list_real.append(a.real)\n",
    "\n",
    "    print(\"Energy is:\",a)\n",
    "    print(\"------\")\n",
    "    \n",
    "    \n",
    "exp_val_list_imag = []\n",
    "exp_val_list_real = []\n",
    "var_list=[]\n",
    "res = minimize(obj_fun, params, method=\"COBYLA\",callback=CB, options={'tol': 1e-6,'maxiter':1000})\n",
    "   \n",
    "print(\"Quantum solution : \",np.real(res.fun))\n",
    "print(\"Numpy solution : \",np.real(min(np.linalg.eigvals(H))))"
   ]
  },
  {
   "cell_type": "markdown",
   "id": "8f78506a-1e38-4686-9511-47b730effd2d",
   "metadata": {},
   "source": [
    "# Eigenvector"
   ]
  },
  {
   "cell_type": "code",
   "execution_count": 386,
   "id": "8910f91b-6a60-414a-91c3-49b614bba300",
   "metadata": {
    "tags": []
   },
   "outputs": [
    {
     "data": {
      "text/plain": [
       "array([0.55861692+0.j, 0.39732214+0.j, 0.48863467+0.j, 0.5397392 +0.j])"
      ]
     },
     "execution_count": 386,
     "metadata": {},
     "output_type": "execute_result"
    }
   ],
   "source": [
    "sv = np.array(Statevector(Ansatz(nqubits,l, \"RealAmplitudes\")[0].bind_parameters(res.x))) \n",
    "sv"
   ]
  },
  {
   "cell_type": "code",
   "execution_count": 387,
   "id": "dbed7a09-dd9e-4d59-94e9-ba7368a568c2",
   "metadata": {
    "tags": []
   },
   "outputs": [],
   "source": [
    "# Psi = eigenvectors[:,np.where(eigenvalues==min(eigenvalues))[0][0]]\n",
    "# Psi"
   ]
  },
  {
   "cell_type": "code",
   "execution_count": 388,
   "id": "167b6ee4-b22a-4ad7-89df-8f1f83531c4f",
   "metadata": {
    "tags": []
   },
   "outputs": [],
   "source": [
    "Psi = sv"
   ]
  },
  {
   "cell_type": "code",
   "execution_count": 389,
   "id": "ac880297-d59c-4d46-9f63-894be8dcf0d7",
   "metadata": {
    "tags": []
   },
   "outputs": [
    {
     "data": {
      "text/plain": [
       "array([ 1.03077641+0.j, -0.25      +0.j, -1.03077641+0.j,  0.25      +0.j])"
      ]
     },
     "execution_count": 389,
     "metadata": {},
     "output_type": "execute_result"
    }
   ],
   "source": [
    "eigenvalues"
   ]
  },
  {
   "cell_type": "markdown",
   "id": "708e6ccc-015f-4116-8501-4aa3ef770f11",
   "metadata": {},
   "source": [
    "# Excited States"
   ]
  },
  {
   "cell_type": "code",
   "execution_count": 390,
   "id": "a467b270-0ec5-41b2-a42c-cc8b8654b636",
   "metadata": {
    "tags": []
   },
   "outputs": [
    {
     "name": "stdout",
     "output_type": "stream",
     "text": [
      "Quantum Excited state  1  is  -0.2500480421221928\n",
      "Classical Excited state  1  is  (-0.2500000000000002+0j)\n",
      "--------------\n",
      "Quantum Excited state  2  is  0.23181132269643204\n",
      "Classical Excited state  2  is  (0.24999999999999994+0j)\n",
      "--------------\n",
      "Quantum Excited state  3  is  0.9482871331654821\n",
      "Classical Excited state  3  is  (1.0307764064044145+0j)\n",
      "--------------\n"
     ]
    }
   ],
   "source": [
    "Project = np.outer(Psi, Psi)\n",
    "for i in range(3):\n",
    "    \n",
    "    H = H + 5*Project\n",
    "    \n",
    "    res = minimize(obj_fun, params, method=\"COBYLA\", options={'tol': 1e-6,'maxiter':1000})\n",
    "    print(\"Quantum Excited state \",i+1,\" is \",res.fun)\n",
    "\n",
    "    \n",
    "    min_index = np.argmin(eigenvalues)\n",
    "    eigenvalues = np.delete(eigenvalues, min_index)\n",
    "    \n",
    "    print(\"Classical Excited state \",i+1,\" is \",min(eigenvalues))\n",
    "    print(\"--------------\")\n",
    "    Psi = np.array(Statevector(Ansatz(nqubits,l, \"RealAmplitudes\")[0].bind_parameters(res.x))) \n",
    "    #Psi = eigenvectors[:,np.where(eigenvalues==min(eigenvalues))[0][0]]\n",
    "    \n",
    "    Project += np.outer(Psi, Psi)\n",
    "    \n"
   ]
  },
  {
   "cell_type": "code",
   "execution_count": null,
   "id": "c0c49226-93ce-4baa-99fc-cd1f850b902d",
   "metadata": {},
   "outputs": [],
   "source": []
  }
 ],
 "metadata": {
  "kernelspec": {
   "display_name": "Python 3 (ipykernel)",
   "language": "python",
   "name": "python3"
  },
  "language_info": {
   "codemirror_mode": {
    "name": "ipython",
    "version": 3
   },
   "file_extension": ".py",
   "mimetype": "text/x-python",
   "name": "python",
   "nbconvert_exporter": "python",
   "pygments_lexer": "ipython3",
   "version": "3.10.8"
  },
  "widgets": {
   "application/vnd.jupyter.widget-state+json": {
    "state": {
     "0454905a6af64d008691080b684e8cce": {
      "model_module": "@jupyter-widgets/base",
      "model_module_version": "2.0.0",
      "model_name": "LayoutModel",
      "state": {
       "margin": "0px 0px 10px 0px"
      }
     },
     "19b5aa4260874ad089a839eb64895c6f": {
      "model_module": "@jupyter-widgets/controls",
      "model_module_version": "2.0.0",
      "model_name": "HTMLModel",
      "state": {
       "layout": "IPY_MODEL_8cf96d45fb634d79a14b1d06b14d6658",
       "style": "IPY_MODEL_4796d675473540e2857b9eef34ae0e82",
       "value": "<h5>Message</h5>"
      }
     },
     "3163ca4b55b54dccbb47f3cf66438705": {
      "model_module": "@jupyter-widgets/controls",
      "model_module_version": "2.0.0",
      "model_name": "HTMLModel",
      "state": {
       "layout": "IPY_MODEL_752c12b141c7427aa52916ef0ffd7d9e",
       "style": "IPY_MODEL_d8f7f3482dbb4625a8fa075386b78678",
       "value": "<h5>Status</h5>"
      }
     },
     "3f0286bb9b4c481cb81ffed311af45f6": {
      "model_module": "@jupyter-widgets/controls",
      "model_module_version": "2.0.0",
      "model_name": "ButtonModel",
      "state": {
       "button_style": "primary",
       "description": "Clear",
       "layout": "IPY_MODEL_8451b242191e425787c70d34303735a0",
       "style": "IPY_MODEL_4624a7044b9a4ed9bfae329698765a2b",
       "tooltip": null
      }
     },
     "4624a7044b9a4ed9bfae329698765a2b": {
      "model_module": "@jupyter-widgets/controls",
      "model_module_version": "2.0.0",
      "model_name": "ButtonStyleModel",
      "state": {
       "font_family": null,
       "font_size": null,
       "font_style": null,
       "font_variant": null,
       "font_weight": null,
       "text_color": null,
       "text_decoration": null
      }
     },
     "4796d675473540e2857b9eef34ae0e82": {
      "model_module": "@jupyter-widgets/controls",
      "model_module_version": "2.0.0",
      "model_name": "HTMLStyleModel",
      "state": {
       "description_width": "",
       "font_size": null,
       "text_color": null
      }
     },
     "493cb7251c6844ceba85fb4092642544": {
      "model_module": "@jupyter-widgets/controls",
      "model_module_version": "2.0.0",
      "model_name": "HTMLStyleModel",
      "state": {
       "description_width": "",
       "font_size": null,
       "text_color": null
      }
     },
     "4edf24e99c1247df97bed92ea7cdbc78": {
      "model_module": "@jupyter-widgets/base",
      "model_module_version": "2.0.0",
      "model_name": "LayoutModel",
      "state": {
       "width": "70px"
      }
     },
     "5719f6f0caa94e3fad90b7f67c9d5e28": {
      "model_module": "@jupyter-widgets/base",
      "model_module_version": "2.0.0",
      "model_name": "LayoutModel",
      "state": {
       "margin": "0px 0px 0px 37px",
       "width": "600px"
      }
     },
     "752c12b141c7427aa52916ef0ffd7d9e": {
      "model_module": "@jupyter-widgets/base",
      "model_module_version": "2.0.0",
      "model_name": "LayoutModel",
      "state": {
       "width": "95px"
      }
     },
     "77a54bde1d6840ee8b27dee2f8189713": {
      "model_module": "@jupyter-widgets/controls",
      "model_module_version": "2.0.0",
      "model_name": "HTMLModel",
      "state": {
       "layout": "IPY_MODEL_4edf24e99c1247df97bed92ea7cdbc78",
       "style": "IPY_MODEL_493cb7251c6844ceba85fb4092642544",
       "value": "<h5>Queue</h5>"
      }
     },
     "8048c8a7f9f548fbbc3b605a27e92142": {
      "model_module": "@jupyter-widgets/controls",
      "model_module_version": "2.0.0",
      "model_name": "HBoxModel",
      "state": {
       "children": [
        "IPY_MODEL_9dc45c6128d74140b9a761af3258a9ac",
        "IPY_MODEL_ca77da435ddc44eb9a95f8394816af75",
        "IPY_MODEL_3163ca4b55b54dccbb47f3cf66438705",
        "IPY_MODEL_77a54bde1d6840ee8b27dee2f8189713",
        "IPY_MODEL_19b5aa4260874ad089a839eb64895c6f"
       ],
       "layout": "IPY_MODEL_5719f6f0caa94e3fad90b7f67c9d5e28"
      }
     },
     "8451b242191e425787c70d34303735a0": {
      "model_module": "@jupyter-widgets/base",
      "model_module_version": "2.0.0",
      "model_name": "LayoutModel",
      "state": {
       "grid_area": "right",
       "padding": "0px 0px 0px 0px",
       "width": "70px"
      }
     },
     "84d2c619fa7a44fbabb5530bb873e0cc": {
      "model_module": "@jupyter-widgets/controls",
      "model_module_version": "2.0.0",
      "model_name": "HTMLModel",
      "state": {
       "layout": "IPY_MODEL_0454905a6af64d008691080b684e8cce",
       "style": "IPY_MODEL_df470a55ab094f2ea1269d629778c55d",
       "value": "<p style='font-family: IBM Plex Sans, Arial, Helvetica, sans-serif; font-size: 20px; font-weight: medium;'>Circuit Properties</p>"
      }
     },
     "8a39b6f1556a40cc8891cab61113950b": {
      "model_module": "@jupyter-widgets/base",
      "model_module_version": "2.0.0",
      "model_name": "LayoutModel",
      "state": {
       "width": "145px"
      }
     },
     "8b92ff88092e4f4f9b853cc0530be208": {
      "model_module": "@jupyter-widgets/controls",
      "model_module_version": "2.0.0",
      "model_name": "HTMLStyleModel",
      "state": {
       "description_width": "",
       "font_size": null,
       "text_color": null
      }
     },
     "8cf96d45fb634d79a14b1d06b14d6658": {
      "model_module": "@jupyter-widgets/base",
      "model_module_version": "2.0.0",
      "model_name": "LayoutModel",
      "state": {}
     },
     "94e3a3f273274b2b8945a190688479c3": {
      "model_module": "@jupyter-widgets/controls",
      "model_module_version": "2.0.0",
      "model_name": "HTMLStyleModel",
      "state": {
       "description_width": "",
       "font_size": null,
       "text_color": null
      }
     },
     "9dc45c6128d74140b9a761af3258a9ac": {
      "model_module": "@jupyter-widgets/controls",
      "model_module_version": "2.0.0",
      "model_name": "HTMLModel",
      "state": {
       "layout": "IPY_MODEL_f11ccf639b35402ab35df344b02d3c40",
       "style": "IPY_MODEL_94e3a3f273274b2b8945a190688479c3",
       "value": "<h5>Job ID</h5>"
      }
     },
     "ad9a2cfea0074022add0cf0e754d6722": {
      "model_module": "@jupyter-widgets/base",
      "model_module_version": "2.0.0",
      "model_name": "LayoutModel",
      "state": {
       "grid_template_areas": "\n                                       \". . . . right \"\n                                        ",
       "grid_template_columns": "20% 20% 20% 20% 20%",
       "width": "100%"
      }
     },
     "ca77da435ddc44eb9a95f8394816af75": {
      "model_module": "@jupyter-widgets/controls",
      "model_module_version": "2.0.0",
      "model_name": "HTMLModel",
      "state": {
       "layout": "IPY_MODEL_8a39b6f1556a40cc8891cab61113950b",
       "style": "IPY_MODEL_8b92ff88092e4f4f9b853cc0530be208",
       "value": "<h5>Backend</h5>"
      }
     },
     "d8f7f3482dbb4625a8fa075386b78678": {
      "model_module": "@jupyter-widgets/controls",
      "model_module_version": "2.0.0",
      "model_name": "HTMLStyleModel",
      "state": {
       "description_width": "",
       "font_size": null,
       "text_color": null
      }
     },
     "df470a55ab094f2ea1269d629778c55d": {
      "model_module": "@jupyter-widgets/controls",
      "model_module_version": "2.0.0",
      "model_name": "HTMLStyleModel",
      "state": {
       "description_width": "",
       "font_size": null,
       "text_color": null
      }
     },
     "f11ccf639b35402ab35df344b02d3c40": {
      "model_module": "@jupyter-widgets/base",
      "model_module_version": "2.0.0",
      "model_name": "LayoutModel",
      "state": {
       "width": "190px"
      }
     },
     "f4e93a35b39248ceace49478c0ba8bb0": {
      "model_module": "@jupyter-widgets/controls",
      "model_module_version": "2.0.0",
      "model_name": "GridBoxModel",
      "state": {
       "children": [
        "IPY_MODEL_3f0286bb9b4c481cb81ffed311af45f6"
       ],
       "layout": "IPY_MODEL_ad9a2cfea0074022add0cf0e754d6722"
      }
     }
    },
    "version_major": 2,
    "version_minor": 0
   }
  }
 },
 "nbformat": 4,
 "nbformat_minor": 5
}
