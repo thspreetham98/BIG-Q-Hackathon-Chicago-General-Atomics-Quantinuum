{
 "cells": [
  {
   "cell_type": "code",
   "execution_count": 13,
   "metadata": {},
   "outputs": [],
   "source": [
    "# from qiskit.circuit.library import RealAmplitudes\n",
    "# from qiskit.quantum_info import SparsePauliOp\n",
    "\n",
    "# from qiskit_ibm_runtime import QiskitRuntimeService, Estimator, Session\n",
    "\n",
    "# service = QiskitRuntimeService(channel=\"ibm_cloud\")\n",
    "\n",
    "# psi1 = RealAmplitudes(num_qubits=2, reps=2)\n",
    "\n",
    "# H1 = SparsePauliOp.from_list([(\"II\", 1), (\"IZ\", 2), (\"XI\", 3)])\n",
    "# H2 = SparsePauliOp.from_list([(\"IZ\", 1)])\n",
    "# H3 = SparsePauliOp.from_list([(\"ZI\", 1), (\"ZZ\", 1)])\n",
    "\n",
    "# with Session(service=service, backend=\"ibmq_qasm_simulator\") as session:\n",
    "#     estimator = Estimator(session=session)\n",
    "\n",
    "#     theta1 = [0, 1, 1, 2, 3, 5]\n",
    "\n",
    "#     # calculate [ <psi1(theta1)|H1|psi1(theta1)> ]\n",
    "#     psi1_H1 = estimator.run(circuits=[psi1], observables=[H1], parameter_values=[theta1])\n",
    "#     print(psi1_H1.result())\n",
    "\n",
    "#     # calculate [ <psi1(theta1)|H2|psi1(theta1)>, <psi1(theta1)|H3|psi1(theta1)> ]\n",
    "#     psi1_H23 = estimator.run(\n",
    "#         circuits=[psi1, psi1],\n",
    "#         observables=[H2, H3],\n",
    "#         parameter_values=[theta1]*2\n",
    "#     )\n",
    "#     print(psi1_H23.result())\n",
    "#     # Close the session only if all jobs are finished\n",
    "#     # and you don't need to run more in the session\n",
    "#     session.close()"
   ]
  },
  {
   "cell_type": "code",
   "execution_count": 3,
   "metadata": {},
   "outputs": [],
   "source": [
    "num_qubits = 3"
   ]
  },
  {
   "cell_type": "code",
   "execution_count": 10,
   "metadata": {},
   "outputs": [],
   "source": [
    "from qiskit_nature.second_q.hamiltonians.lattices import LineLattice, BoundaryCondition\n",
    "from qiskit_nature.second_q.hamiltonians.ising_model import IsingModel\n",
    "\n",
    "line_lattice = LineLattice(num_nodes=num_qubits, boundary_condition=BoundaryCondition.OPEN)\n",
    "\n",
    "ising_model = IsingModel(\n",
    "    line_lattice.uniform_parameters(\n",
    "        uniform_interaction=-0.0,\n",
    "        uniform_onsite_potential=-2.0,\n",
    "    ),\n",
    ")\n",
    "Ham_1 = ising_model.second_q_op()"
   ]
  },
  {
   "cell_type": "code",
   "execution_count": 11,
   "metadata": {},
   "outputs": [
    {
     "name": "stdout",
     "output_type": "stream",
     "text": [
      "Spin Operator\n",
      "spin=1/2, number spins=3, number terms=5\n",
      "  -0.0 * ( Z_0 Z_1 )\n",
      "+ -0.0 * ( Z_1 Z_2 )\n",
      "+ -2.0 * ( X_0 )\n",
      "+ -2.0 * ( X_1 )\n",
      "+ -2.0 * ( X_2 )\n",
      "[[ 0.+0.j -1.+0.j -1.+0.j  0.+0.j -1.+0.j  0.+0.j  0.+0.j  0.+0.j]\n",
      " [-1.+0.j  0.+0.j  0.+0.j -1.+0.j  0.+0.j -1.+0.j  0.+0.j  0.+0.j]\n",
      " [-1.+0.j  0.+0.j  0.+0.j -1.+0.j  0.+0.j  0.+0.j -1.+0.j  0.+0.j]\n",
      " [ 0.+0.j -1.+0.j -1.+0.j  0.+0.j  0.+0.j  0.+0.j  0.+0.j -1.+0.j]\n",
      " [-1.+0.j  0.+0.j  0.+0.j  0.+0.j  0.+0.j -1.+0.j -1.+0.j  0.+0.j]\n",
      " [ 0.+0.j -1.+0.j  0.+0.j  0.+0.j -1.+0.j  0.+0.j  0.+0.j -1.+0.j]\n",
      " [ 0.+0.j  0.+0.j -1.+0.j  0.+0.j -1.+0.j  0.+0.j  0.+0.j -1.+0.j]\n",
      " [ 0.+0.j  0.+0.j  0.+0.j -1.+0.j  0.+0.j -1.+0.j -1.+0.j  0.+0.j]]\n"
     ]
    }
   ],
   "source": [
    "print(Ham_1)\n",
    "print(Ham_1.to_matrix())"
   ]
  },
  {
   "cell_type": "code",
   "execution_count": 16,
   "metadata": {},
   "outputs": [],
   "source": [
    "from qiskit.quantum_info import Operator\n",
    "\n",
    "operator = Operator(Ham_1.to_matrix())"
   ]
  },
  {
   "cell_type": "code",
   "execution_count": 17,
   "metadata": {},
   "outputs": [
    {
     "data": {
      "text/plain": [
       "OpShape(num_qargs_l=3, num_qargs_r=3)"
      ]
     },
     "execution_count": 17,
     "metadata": {},
     "output_type": "execute_result"
    }
   ],
   "source": [
    "operator._op_shape"
   ]
  },
  {
   "cell_type": "code",
   "execution_count": 18,
   "metadata": {},
   "outputs": [],
   "source": [
    "# from qiskit.circuit.library import RealAmplitudes\n",
    "# from qiskit.quantum_info import SparsePauliOp\n",
    "\n",
    "# from qiskit_ibm_runtime import QiskitRuntimeService, Estimator, Session\n",
    "\n",
    "# service = QiskitRuntimeService(channel=\"ibm_cloud\")\n",
    "\n",
    "# psi1 = RealAmplitudes(num_qubits=num_qubits, reps=2)\n",
    "\n",
    "# with Session(service=service, backend=\"ibmq_qasm_simulator\") as session:\n",
    "#     estimator = Estimator(session=session)\n",
    "\n",
    "#     theta1 = [0]*num_qubits*3\n",
    "\n",
    "#     # calculate [ <psi1(theta1)|H1|psi1(theta1)> ]\n",
    "#     psi1_H1 = estimator.run(circuits=[psi1], observables=[operator], parameter_values=[theta1])\n",
    "#     print(psi1_H1.result())\n",
    "#     session.close()"
   ]
  },
  {
   "cell_type": "markdown",
   "metadata": {},
   "source": [
    "# VQE"
   ]
  },
  {
   "cell_type": "code",
   "execution_count": 19,
   "metadata": {},
   "outputs": [],
   "source": [
    "# from qiskit.circuit.library import RealAmplitudes\n",
    "# from qiskit.quantum_info import SparsePauliOp\n",
    "\n",
    "# from qiskit_ibm_runtime import QiskitRuntimeService, Estimator, Session\n",
    "\n",
    "# from qiskit.algorithms.minimum_eigensolvers import VQE\n",
    "# from qiskit.circuit.library import RealAmplitudes\n",
    "# from qiskit.algorithms.optimizers import SPSA\n",
    "\n",
    "# service = QiskitRuntimeService(channel=\"ibm_cloud\")\n",
    "\n",
    "# psi1 = RealAmplitudes(num_qubits=num_qubits, reps=2)\n",
    "\n",
    "# with Session(service=service, backend=\"ibmq_qasm_simulator\") as session:\n",
    "#     estimator = Estimator(session=session)\n",
    "#     vqe = VQE(estimator, psi1, SPSA(100))\n",
    "#     theta1 = [0]*num_qubits*3\n",
    "#     # calculate [ <psi1(theta1)|H1|psi1(theta1)> ]\n",
    "#     # psi1_H1 = estimator.run(circuits=[psi1], observables=[operator], parameter_values=[theta1])\n",
    "#     # print(psi1_H1.result())\n",
    "#     session.close()"
   ]
  },
  {
   "cell_type": "markdown",
   "metadata": {},
   "source": [
    "# Ari"
   ]
  },
  {
   "cell_type": "code",
   "execution_count": 26,
   "metadata": {},
   "outputs": [],
   "source": [
    "from qiskit.algorithms.minimum_eigensolvers.vqe import VQE\n",
    "from qiskit.algorithms.optimizers import SPSA\n",
    "from qiskit.circuit.library import EfficientSU2\n",
    "\n",
    "def vqe_solve(op, maxiter, qestimator):\n",
    "    optimizer = SPSA(maxiter=maxiter)\n",
    "    ansatz = EfficientSU2(op.num_qubits, entanglement=\"linear\")\n",
    "    vqe = VQE(estimator=qestimator, ansatz=ansatz, optimizer=optimizer)\n",
    "    min= vqe.compute_minimum_eigenvalue(op)\n",
    "    return min.eigenvalue, min.optimal_parameters"
   ]
  },
  {
   "cell_type": "code",
   "execution_count": 27,
   "metadata": {},
   "outputs": [],
   "source": [
    "from pytket.extensions.qiskit.tket_backend import TketBackend\n",
    "from qiskit import Aer\n",
    "from qiskit.primitives import BackendEstimator\n",
    "\n",
    "simulator = Aer.get_backend('aer_simulator')\n",
    "aer_backend = BackendEstimator(simulator, options={\"shots\": 500})\n",
    "\n",
    "# qis_backend = TketBackend(backend_emu)\n",
    "# qestimator = BackendEstimator(qis_backend, options={\"shots\": 100})"
   ]
  },
  {
   "cell_type": "code",
   "execution_count": 28,
   "metadata": {},
   "outputs": [],
   "source": [
    "from qiskit.quantum_info import SparsePauliOp\n",
    "\n",
    "H2_op = SparsePauliOp.from_list(\n",
    "    [\n",
    "        (\"II\", -1.052373245772859),\n",
    "        (\"IZ\", 0.39793742484318045),\n",
    "        (\"ZI\", -0.39793742484318045),\n",
    "        (\"ZZ\", -0.01128010425623538),\n",
    "        (\"XX\", 0.18093119978423156),\n",
    "    ]\n",
    ")"
   ]
  },
  {
   "cell_type": "code",
   "execution_count": 30,
   "metadata": {},
   "outputs": [
    {
     "name": "stdout",
     "output_type": "stream",
     "text": [
      "VQE result (with optimisation): (-1.2379996092800203, {ParameterVectorElement(θ[0]): 2.3265768233994644, ParameterVectorElement(θ[1]): -1.4241308866275288, ParameterVectorElement(θ[2]): -3.652426304268789, ParameterVectorElement(θ[3]): -2.43026691508373, ParameterVectorElement(θ[4]): -1.7633133037830724, ParameterVectorElement(θ[5]): 1.0220566128596869, ParameterVectorElement(θ[6]): 1.14543216539084, ParameterVectorElement(θ[7]): 1.2688465622073684, ParameterVectorElement(θ[8]): 0.34338562350927515, ParameterVectorElement(θ[9]): 2.093432881017833, ParameterVectorElement(θ[10]): -1.8818629194757015, ParameterVectorElement(θ[11]): -2.243939249451576, ParameterVectorElement(θ[12]): -1.2988259224762002, ParameterVectorElement(θ[13]): -0.6559081617842997, ParameterVectorElement(θ[14]): 2.670388238995553, ParameterVectorElement(θ[15]): -2.4849670361143046})\n"
     ]
    }
   ],
   "source": [
    "print(\"VQE result (with optimisation):\", vqe_solve(H2_op, 1, aer_backend))"
   ]
  },
  {
   "cell_type": "code",
   "execution_count": null,
   "metadata": {},
   "outputs": [
    {
     "data": {
      "text/plain": [
       "(-1.8572750302023797+0j)"
      ]
     },
     "execution_count": 24,
     "metadata": {},
     "output_type": "execute_result"
    }
   ],
   "source": [
    "import numpy as np\n",
    "min(np.linalg.eigvals(H2_op))"
   ]
  },
  {
   "cell_type": "code",
   "execution_count": null,
   "metadata": {},
   "outputs": [],
   "source": [
    "print(\"VQE result (with optimisation):\", vqe_solve(H2_op, 50, aer_backend))"
   ]
  },
  {
   "cell_type": "code",
   "execution_count": 25,
   "metadata": {},
   "outputs": [],
   "source": [
    "# from pytket.extensions.quantinuum import QuantinuumBackend\n",
    "\n",
    "# machine = 'H1-2E'\n",
    "# backend_emu = QuantinuumBackend(device_name=machine)\n",
    "# backend_emu.login()"
   ]
  },
  {
   "cell_type": "code",
   "execution_count": null,
   "metadata": {},
   "outputs": [],
   "source": []
  }
 ],
 "metadata": {
  "kernelspec": {
   "display_name": ".venv",
   "language": "python",
   "name": "python3"
  },
  "language_info": {
   "codemirror_mode": {
    "name": "ipython",
    "version": 3
   },
   "file_extension": ".py",
   "mimetype": "text/x-python",
   "name": "python",
   "nbconvert_exporter": "python",
   "pygments_lexer": "ipython3",
   "version": "3.10.9"
  },
  "orig_nbformat": 4
 },
 "nbformat": 4,
 "nbformat_minor": 2
}
