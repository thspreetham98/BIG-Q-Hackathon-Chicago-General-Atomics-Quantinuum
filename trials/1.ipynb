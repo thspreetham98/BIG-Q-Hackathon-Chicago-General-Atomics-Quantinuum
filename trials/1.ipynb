{
 "cells": [
  {
   "cell_type": "code",
   "execution_count": 1,
   "metadata": {},
   "outputs": [],
   "source": [
    "# from pytket.extensions.quantinuum import QuantinuumBackend\n",
    "# # Select the H1-2 emulation device\n",
    "# machine = 'H1-2E'\n",
    "# backend_emu = QuantinuumBackend(device_name=machine)\n",
    "# backend_emu.login()"
   ]
  },
  {
   "cell_type": "code",
   "execution_count": 2,
   "metadata": {},
   "outputs": [],
   "source": [
    "# General imports\n",
    "import time\n",
    "import numpy as np\n",
    "\n",
    "# Pre-defined ansatz circuit and operator class for Hamiltonian\n",
    "from qiskit.circuit.library import EfficientSU2\n",
    "from qiskit.quantum_info import SparsePauliOp\n",
    "\n",
    "# The IBM Qiskit Runtime\n",
    "from qiskit_ibm_runtime import QiskitRuntimeService\n",
    "from qiskit_ibm_runtime import Estimator, Session\n",
    "\n",
    "# SciPy minimizer routine\n",
    "from scipy.optimize import minimize\n",
    "\n",
    "# Plotting functions\n",
    "import matplotlib.pyplot as plt\n",
    "\n",
    "%config InlineBackend.figure_format='retina'\n",
    "\n",
    "from qiskit_nature.second_q.hamiltonians.lattices import LineLattice, BoundaryCondition\n",
    "from qiskit_nature.second_q.hamiltonians.ising_model import IsingModel\n",
    "\n",
    "from qiskit.algorithms.minimum_eigensolvers import VQE\n",
    "from qiskit.circuit.library import RealAmplitudes\n",
    "from qiskit.algorithms.optimizers import SPSA"
   ]
  },
  {
   "cell_type": "code",
   "execution_count": 3,
   "metadata": {},
   "outputs": [],
   "source": [
    "from qiskit_ibm_runtime import QiskitRuntimeService, Estimator\n",
    "\n",
    "service = QiskitRuntimeService(channel=\"ibm_cloud\")"
   ]
  },
  {
   "cell_type": "markdown",
   "metadata": {},
   "source": [
    "# Initial State"
   ]
  },
  {
   "cell_type": "code",
   "execution_count": 4,
   "metadata": {},
   "outputs": [],
   "source": [
    "psi1 = RealAmplitudes(num_qubits=10, reps=2)"
   ]
  },
  {
   "cell_type": "markdown",
   "metadata": {},
   "source": [
    "# Hamiltonian"
   ]
  },
  {
   "cell_type": "markdown",
   "metadata": {},
   "source": [
    "## Hamiltonian 1"
   ]
  },
  {
   "cell_type": "code",
   "execution_count": 5,
   "metadata": {},
   "outputs": [],
   "source": [
    "line_lattice = LineLattice(num_nodes=10, boundary_condition=BoundaryCondition.OPEN)\n",
    "\n",
    "ising_model = IsingModel(\n",
    "    line_lattice.uniform_parameters(\n",
    "        uniform_interaction=-1.0,\n",
    "        uniform_onsite_potential=-1.0,\n",
    "    ),\n",
    ")"
   ]
  },
  {
   "cell_type": "code",
   "execution_count": 6,
   "metadata": {},
   "outputs": [
    {
     "name": "stdout",
     "output_type": "stream",
     "text": [
      "Spin Operator\n",
      "spin=1/2, number spins=10, number terms=19\n",
      "  (-1+0j) * ( Z_0 Z_1 )\n",
      "+ (-1+0j) * ( Z_1 Z_2 )\n",
      "+ (-1+0j) * ( Z_2 Z_3 )\n",
      "+ (-1+0j) * ( Z_3 Z_4 )\n",
      "+ (-1+0j) * ( Z_4 Z_5 )\n",
      "+ (-1+0j) * ( Z_5 Z_6 )\n",
      "+ (-1+0j) * ( Z_6 Z_7 )\n",
      "+ (-1+0j) * ( Z_7 Z_8 )\n",
      "+ (-1+0j) * ( Z_8 Z_9 )\n",
      "+ (-1+0j) * ( X_0 )\n",
      "+ (-1+0j) * ( X_1 )\n",
      "+ (-1+0j) * ( X_2 )\n",
      "+ (-1+0j) * ( X_3 )\n",
      "+ (-1+0j) * ( X_4 )\n",
      "+ (-1+0j) * ( X_5 )\n",
      "+ (-1+0j) * ( X_6 )\n",
      "+ (-1+0j) * ( X_7 )\n",
      "+ (-1+0j) * ( X_8 )\n",
      "+ (-1+0j) * ( X_9 )\n"
     ]
    }
   ],
   "source": [
    "Ham_1 = ising_model.second_q_op().simplify()\n",
    "print(Ham_1)"
   ]
  },
  {
   "cell_type": "code",
   "execution_count": 7,
   "metadata": {},
   "outputs": [],
   "source": [
    "# hamiltonian = SparsePauliOp.from_list(\n",
    "#     [(\"YZ\", 0.3980), (\"ZI\", -0.3980), (\"ZZ\", -0.0113), (\"XX\", 0.1810)]\n",
    "# )"
   ]
  },
  {
   "cell_type": "markdown",
   "metadata": {},
   "source": [
    "# Step 1 - Use VQE to find the eigenvalue and eigenvectors of the Hamiltonian"
   ]
  },
  {
   "cell_type": "code",
   "execution_count": 8,
   "metadata": {},
   "outputs": [
    {
     "data": {
      "text/plain": [
       "<qiskit.algorithms.minimum_eigensolvers.vqe.VQE at 0x196c7f45000>"
      ]
     },
     "execution_count": 8,
     "metadata": {},
     "output_type": "execute_result"
    }
   ],
   "source": [
    "VQE(Ham_1, RealAmplitudes(10), SPSA(1000))"
   ]
  },
  {
   "cell_type": "code",
   "execution_count": 15,
   "metadata": {},
   "outputs": [],
   "source": [
    "psi1 = RealAmplitudes(num_qubits=10, reps=2)"
   ]
  },
  {
   "cell_type": "code",
   "execution_count": 14,
   "metadata": {},
   "outputs": [
    {
     "ename": "QiskitError",
     "evalue": "'Invalid input data for Pauli.'",
     "output_type": "error",
     "traceback": [
      "\u001b[1;31m---------------------------------------------------------------------------\u001b[0m",
      "\u001b[1;31mQiskitError\u001b[0m                               Traceback (most recent call last)",
      "\u001b[1;32mc:\\Users\\thspr\\Documents\\no backup\\bigq hackathon\\test.ipynb Cell 14\u001b[0m line \u001b[0;36m7\n\u001b[0;32m      <a href='vscode-notebook-cell:/c%3A/Users/thspr/Documents/no%20backup/bigq%20hackathon/test.ipynb#W5sZmlsZQ%3D%3D?line=3'>4</a>\u001b[0m theta1 \u001b[39m=\u001b[39m [\u001b[39m0\u001b[39m, \u001b[39m1\u001b[39m, \u001b[39m1\u001b[39m, \u001b[39m2\u001b[39m, \u001b[39m3\u001b[39m, \u001b[39m5\u001b[39m]\u001b[39m*\u001b[39m\u001b[39m6\u001b[39m\n\u001b[0;32m      <a href='vscode-notebook-cell:/c%3A/Users/thspr/Documents/no%20backup/bigq%20hackathon/test.ipynb#W5sZmlsZQ%3D%3D?line=5'>6</a>\u001b[0m \u001b[39m# calculate [ <psi1(theta1)|H1|psi1(theta1)> ]\u001b[39;00m\n\u001b[1;32m----> <a href='vscode-notebook-cell:/c%3A/Users/thspr/Documents/no%20backup/bigq%20hackathon/test.ipynb#W5sZmlsZQ%3D%3D?line=6'>7</a>\u001b[0m psi1_H1 \u001b[39m=\u001b[39m estimator\u001b[39m.\u001b[39;49mrun(circuits\u001b[39m=\u001b[39;49m[psi1], observables\u001b[39m=\u001b[39;49m[Ham_1], parameter_values\u001b[39m=\u001b[39;49m[theta1])\n\u001b[0;32m      <a href='vscode-notebook-cell:/c%3A/Users/thspr/Documents/no%20backup/bigq%20hackathon/test.ipynb#W5sZmlsZQ%3D%3D?line=7'>8</a>\u001b[0m \u001b[39mprint\u001b[39m(psi1_H1\u001b[39m.\u001b[39mresult())\n\u001b[0;32m     <a href='vscode-notebook-cell:/c%3A/Users/thspr/Documents/no%20backup/bigq%20hackathon/test.ipynb#W5sZmlsZQ%3D%3D?line=9'>10</a>\u001b[0m \u001b[39m# calculate [ <psi1(theta1)|H2|psi1(theta1)>, <psi1(theta1)|H3|psi1(theta1)> ]\u001b[39;00m\n",
      "File \u001b[1;32mc:\\Users\\thspr\\Documents\\no backup\\bigq hackathon\\.venv\\lib\\site-packages\\qiskit_ibm_runtime\\estimator.py:150\u001b[0m, in \u001b[0;36mEstimator.run\u001b[1;34m(self, circuits, observables, parameter_values, **kwargs)\u001b[0m\n\u001b[0;32m    148\u001b[0m \u001b[39m# To bypass base class merging of options.\u001b[39;00m\n\u001b[0;32m    149\u001b[0m user_kwargs \u001b[39m=\u001b[39m {\u001b[39m\"\u001b[39m\u001b[39m_user_kwargs\u001b[39m\u001b[39m\"\u001b[39m: kwargs}\n\u001b[1;32m--> 150\u001b[0m \u001b[39mreturn\u001b[39;00m \u001b[39msuper\u001b[39m()\u001b[39m.\u001b[39mrun(\n\u001b[0;32m    151\u001b[0m     circuits\u001b[39m=\u001b[39mcircuits,\n\u001b[0;32m    152\u001b[0m     observables\u001b[39m=\u001b[39mobservables,\n\u001b[0;32m    153\u001b[0m     parameter_values\u001b[39m=\u001b[39mparameter_values,\n\u001b[0;32m    154\u001b[0m     \u001b[39m*\u001b[39m\u001b[39m*\u001b[39muser_kwargs,\n\u001b[0;32m    155\u001b[0m )\n",
      "File \u001b[1;32mc:\\Users\\thspr\\Documents\\no backup\\bigq hackathon\\.venv\\lib\\site-packages\\qiskit\\primitives\\base\\base_estimator.py:174\u001b[0m, in \u001b[0;36mBaseEstimator.run\u001b[1;34m(self, circuits, observables, parameter_values, **run_options)\u001b[0m\n\u001b[0;32m    172\u001b[0m \u001b[39m# Singular validation\u001b[39;00m\n\u001b[0;32m    173\u001b[0m circuits \u001b[39m=\u001b[39m \u001b[39mself\u001b[39m\u001b[39m.\u001b[39m_validate_circuits(circuits)\n\u001b[1;32m--> 174\u001b[0m observables \u001b[39m=\u001b[39m \u001b[39mself\u001b[39;49m\u001b[39m.\u001b[39;49m_validate_observables(observables)\n\u001b[0;32m    175\u001b[0m parameter_values \u001b[39m=\u001b[39m \u001b[39mself\u001b[39m\u001b[39m.\u001b[39m_validate_parameter_values(\n\u001b[0;32m    176\u001b[0m     parameter_values,\n\u001b[0;32m    177\u001b[0m     default\u001b[39m=\u001b[39m[()] \u001b[39m*\u001b[39m \u001b[39mlen\u001b[39m(circuits),\n\u001b[0;32m    178\u001b[0m )\n\u001b[0;32m    180\u001b[0m \u001b[39m# Cross-validation\u001b[39;00m\n",
      "File \u001b[1;32mc:\\Users\\thspr\\Documents\\no backup\\bigq hackathon\\.venv\\lib\\site-packages\\qiskit\\primitives\\base\\base_estimator.py:213\u001b[0m, in \u001b[0;36mBaseEstimator._validate_observables\u001b[1;34m(observables)\u001b[0m\n\u001b[0;32m    211\u001b[0m \u001b[39mif\u001b[39;00m \u001b[39mlen\u001b[39m(observables) \u001b[39m==\u001b[39m \u001b[39m0\u001b[39m:\n\u001b[0;32m    212\u001b[0m     \u001b[39mraise\u001b[39;00m \u001b[39mValueError\u001b[39;00m(\u001b[39m\"\u001b[39m\u001b[39mNo observables were provided.\u001b[39m\u001b[39m\"\u001b[39m)\n\u001b[1;32m--> 213\u001b[0m \u001b[39mreturn\u001b[39;00m \u001b[39mtuple\u001b[39;49m(init_observable(obs) \u001b[39mfor\u001b[39;49;00m obs \u001b[39min\u001b[39;49;00m observables)\n",
      "File \u001b[1;32mc:\\Users\\thspr\\Documents\\no backup\\bigq hackathon\\.venv\\lib\\site-packages\\qiskit\\primitives\\base\\base_estimator.py:213\u001b[0m, in \u001b[0;36m<genexpr>\u001b[1;34m(.0)\u001b[0m\n\u001b[0;32m    211\u001b[0m \u001b[39mif\u001b[39;00m \u001b[39mlen\u001b[39m(observables) \u001b[39m==\u001b[39m \u001b[39m0\u001b[39m:\n\u001b[0;32m    212\u001b[0m     \u001b[39mraise\u001b[39;00m \u001b[39mValueError\u001b[39;00m(\u001b[39m\"\u001b[39m\u001b[39mNo observables were provided.\u001b[39m\u001b[39m\"\u001b[39m)\n\u001b[1;32m--> 213\u001b[0m \u001b[39mreturn\u001b[39;00m \u001b[39mtuple\u001b[39m(init_observable(obs) \u001b[39mfor\u001b[39;00m obs \u001b[39min\u001b[39;00m observables)\n",
      "File \u001b[1;32mc:\\Users\\thspr\\Documents\\no backup\\bigq hackathon\\.venv\\lib\\site-packages\\qiskit\\primitives\\utils.py:85\u001b[0m, in \u001b[0;36minit_observable\u001b[1;34m(observable)\u001b[0m\n\u001b[0;32m     83\u001b[0m     \u001b[39mreturn\u001b[39;00m SparsePauliOp\u001b[39m.\u001b[39mfrom_operator(observable)\n\u001b[0;32m     84\u001b[0m \u001b[39melse\u001b[39;00m:\n\u001b[1;32m---> 85\u001b[0m     \u001b[39mreturn\u001b[39;00m SparsePauliOp(observable)\n",
      "File \u001b[1;32mc:\\Users\\thspr\\Documents\\no backup\\bigq hackathon\\.venv\\lib\\site-packages\\qiskit\\quantum_info\\operators\\symplectic\\sparse_pauli_op.py:127\u001b[0m, in \u001b[0;36mSparsePauliOp.__init__\u001b[1;34m(self, data, coeffs, ignore_pauli_phase, copy)\u001b[0m\n\u001b[0;32m    123\u001b[0m     \u001b[39m# `SparsePauliOp._pauli_list` is already compatible with the internal ZX-phase\u001b[39;00m\n\u001b[0;32m    124\u001b[0m     \u001b[39m# convention.  See `BasePauli._from_array` for the internal ZX-phase convention.\u001b[39;00m\n\u001b[0;32m    125\u001b[0m     ignore_pauli_phase \u001b[39m=\u001b[39m \u001b[39mTrue\u001b[39;00m\n\u001b[1;32m--> 127\u001b[0m pauli_list \u001b[39m=\u001b[39m PauliList(data\u001b[39m.\u001b[39;49mcopy() \u001b[39mif\u001b[39;49;00m copy \u001b[39mand\u001b[39;49;00m \u001b[39mhasattr\u001b[39;49m(data, \u001b[39m\"\u001b[39;49m\u001b[39mcopy\u001b[39;49m\u001b[39m\"\u001b[39;49m) \u001b[39melse\u001b[39;49;00m data)\n\u001b[0;32m    129\u001b[0m \u001b[39mif\u001b[39;00m \u001b[39misinstance\u001b[39m(coeffs, np\u001b[39m.\u001b[39mndarray) \u001b[39mand\u001b[39;00m coeffs\u001b[39m.\u001b[39mdtype \u001b[39m==\u001b[39m \u001b[39mobject\u001b[39m:\n\u001b[0;32m    130\u001b[0m     dtype \u001b[39m=\u001b[39m \u001b[39mobject\u001b[39m\n",
      "File \u001b[1;32mc:\\Users\\thspr\\Documents\\no backup\\bigq hackathon\\.venv\\lib\\site-packages\\qiskit\\quantum_info\\operators\\symplectic\\pauli_list.py:145\u001b[0m, in \u001b[0;36mPauliList.__init__\u001b[1;34m(self, data)\u001b[0m\n\u001b[0;32m    142\u001b[0m     base_z, base_x, base_phase \u001b[39m=\u001b[39m \u001b[39mself\u001b[39m\u001b[39m.\u001b[39m_from_array(data\u001b[39m.\u001b[39mZ, data\u001b[39m.\u001b[39mX)\n\u001b[0;32m    143\u001b[0m \u001b[39melse\u001b[39;00m:\n\u001b[0;32m    144\u001b[0m     \u001b[39m# Conversion as iterable of Paulis\u001b[39;00m\n\u001b[1;32m--> 145\u001b[0m     base_z, base_x, base_phase \u001b[39m=\u001b[39m \u001b[39mself\u001b[39;49m\u001b[39m.\u001b[39;49m_from_paulis(data)\n\u001b[0;32m    147\u001b[0m \u001b[39m# Initialize BasePauli\u001b[39;00m\n\u001b[0;32m    148\u001b[0m \u001b[39msuper\u001b[39m()\u001b[39m.\u001b[39m\u001b[39m__init__\u001b[39m(base_z, base_x, base_phase)\n",
      "File \u001b[1;32mc:\\Users\\thspr\\Documents\\no backup\\bigq hackathon\\.venv\\lib\\site-packages\\qiskit\\quantum_info\\operators\\symplectic\\pauli_list.py:190\u001b[0m, in \u001b[0;36mPauliList._from_paulis\u001b[1;34m(data)\u001b[0m\n\u001b[0;32m    188\u001b[0m \u001b[39mfor\u001b[39;00m i \u001b[39min\u001b[39;00m data:\n\u001b[0;32m    189\u001b[0m     \u001b[39mif\u001b[39;00m \u001b[39mnot\u001b[39;00m \u001b[39misinstance\u001b[39m(i, Pauli):\n\u001b[1;32m--> 190\u001b[0m         paulis\u001b[39m.\u001b[39mappend(Pauli(i))\n\u001b[0;32m    191\u001b[0m     \u001b[39melse\u001b[39;00m:\n\u001b[0;32m    192\u001b[0m         paulis\u001b[39m.\u001b[39mappend(i)\n",
      "File \u001b[1;32mc:\\Users\\thspr\\Documents\\no backup\\bigq hackathon\\.venv\\lib\\site-packages\\qiskit\\quantum_info\\operators\\symplectic\\pauli.py:217\u001b[0m, in \u001b[0;36mPauli.__init__\u001b[1;34m(self, data, x, z, label)\u001b[0m\n\u001b[0;32m    215\u001b[0m     base_z, base_x, base_phase \u001b[39m=\u001b[39m \u001b[39mself\u001b[39m\u001b[39m.\u001b[39m_from_label(label)\n\u001b[0;32m    216\u001b[0m \u001b[39melse\u001b[39;00m:\n\u001b[1;32m--> 217\u001b[0m     \u001b[39mraise\u001b[39;00m QiskitError(\u001b[39m\"\u001b[39m\u001b[39mInvalid input data for Pauli.\u001b[39m\u001b[39m\"\u001b[39m)\n\u001b[0;32m    219\u001b[0m \u001b[39m# Initialize BasePauli\u001b[39;00m\n\u001b[0;32m    220\u001b[0m \u001b[39mif\u001b[39;00m base_z\u001b[39m.\u001b[39mshape[\u001b[39m0\u001b[39m] \u001b[39m!=\u001b[39m \u001b[39m1\u001b[39m:\n",
      "\u001b[1;31mQiskitError\u001b[0m: 'Invalid input data for Pauli.'"
     ]
    }
   ],
   "source": [
    "\n",
    "with Session(service=service, backend=\"ibmq_qasm_simulator\") as session:\n",
    "    estimator = Estimator(session=session)\n",
    "\n",
    "    theta1 = [0, 1, 1, 2, 3, 5]*6\n",
    "\n",
    "    # calculate [ <psi1(theta1)|H1|psi1(theta1)> ]\n",
    "    psi1_H1 = estimator.run(circuits=[psi1], observables=[Ham_1], parameter_values=[theta1])\n",
    "    print(psi1_H1.result())\n",
    "\n",
    "    # calculate [ <psi1(theta1)|H2|psi1(theta1)>, <psi1(theta1)|H3|psi1(theta1)> ]\n",
    "    psi1_H23 = estimator.run(\n",
    "        circuits=[psi1, psi1],\n",
    "        observables=[Ham_1],\n",
    "        parameter_values=[theta1]*2\n",
    "    )\n",
    "    print(psi1_H23.result())\n",
    "    # Close the session only if all jobs are finished\n",
    "    # and you don't need to run more in the session\n",
    "    session.close()"
   ]
  },
  {
   "cell_type": "code",
   "execution_count": 13,
   "metadata": {},
   "outputs": [
    {
     "data": {
      "text/plain": [
       "[0,\n",
       " 1,\n",
       " 1,\n",
       " 2,\n",
       " 3,\n",
       " 5,\n",
       " 0,\n",
       " 1,\n",
       " 1,\n",
       " 2,\n",
       " 3,\n",
       " 5,\n",
       " 0,\n",
       " 1,\n",
       " 1,\n",
       " 2,\n",
       " 3,\n",
       " 5,\n",
       " 0,\n",
       " 1,\n",
       " 1,\n",
       " 2,\n",
       " 3,\n",
       " 5,\n",
       " 0,\n",
       " 1,\n",
       " 1,\n",
       " 2,\n",
       " 3,\n",
       " 5]"
      ]
     },
     "execution_count": 13,
     "metadata": {},
     "output_type": "execute_result"
    }
   ],
   "source": [
    "[0, 1, 1, 2, 3, 5]*5"
   ]
  },
  {
   "cell_type": "code",
   "execution_count": null,
   "metadata": {},
   "outputs": [],
   "source": []
  }
 ],
 "metadata": {
  "kernelspec": {
   "display_name": ".venv",
   "language": "python",
   "name": "python3"
  },
  "language_info": {
   "codemirror_mode": {
    "name": "ipython",
    "version": 3
   },
   "file_extension": ".py",
   "mimetype": "text/x-python",
   "name": "python",
   "nbconvert_exporter": "python",
   "pygments_lexer": "ipython3",
   "version": "3.10.9"
  },
  "orig_nbformat": 4
 },
 "nbformat": 4,
 "nbformat_minor": 2
}
